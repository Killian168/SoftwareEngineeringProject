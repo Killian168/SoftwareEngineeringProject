{
 "cells": [
  {
   "cell_type": "code",
   "execution_count": 7,
   "metadata": {},
   "outputs": [
    {
     "ename": "NameError",
     "evalue": "name 'imshow' is not defined",
     "output_type": "error",
     "traceback": [
      "\u001b[0;31m---------------------------------------------------------------------------\u001b[0m",
      "\u001b[0;31mNameError\u001b[0m                                 Traceback (most recent call last)",
      "\u001b[0;32m<ipython-input-7-8c191e721d5c>\u001b[0m in \u001b[0;36m<module>\u001b[0;34m\u001b[0m\n\u001b[1;32m     69\u001b[0m \u001b[0;34m\u001b[0m\u001b[0m\n\u001b[1;32m     70\u001b[0m     \u001b[0;32mfor\u001b[0m \u001b[0melem\u001b[0m \u001b[0;32min\u001b[0m \u001b[0mlist\u001b[0m\u001b[0;34m(\u001b[0m\u001b[0mq\u001b[0m\u001b[0;34m.\u001b[0m\u001b[0mqueue\u001b[0m\u001b[0;34m)\u001b[0m\u001b[0;34m:\u001b[0m\u001b[0;34m\u001b[0m\u001b[0m\n\u001b[0;32m---> 71\u001b[0;31m         \u001b[0mimshow\u001b[0m\u001b[0;34m(\u001b[0m\u001b[0melem\u001b[0m\u001b[0;34m)\u001b[0m\u001b[0;34m\u001b[0m\u001b[0m\n\u001b[0m\u001b[1;32m     72\u001b[0m \u001b[0;34m\u001b[0m\u001b[0m\n",
      "\u001b[0;31mNameError\u001b[0m: name 'imshow' is not defined"
     ]
    }
   ],
   "source": [
    "# @author: Killian O'Dálaigh\n",
    "# @version: 31/01/2019\n",
    "# Decription: Gets image and crops it into individual\n",
    "# images of each word using AWS Rekognition to recognise each\n",
    "# word\n",
    "\n",
    "# Import Dependencies\n",
    "import boto3\n",
    "import json\n",
    "import io\n",
    "import PIL\n",
    "import queue\n",
    "from PIL import *\n",
    "\n",
    "if __name__ == \"__main__\":\n",
    "     \n",
    "        \n",
    "    # Create Queue\n",
    "    q = queue.Queue(maxsize=1000)\n",
    "    \n",
    "    # Connect to s3 and recieve picture\n",
    "    bucket=\"test-handwritting-bucket\"\n",
    "    photo=\"test4.jpg\"\n",
    "    client=boto3.client('rekognition')\n",
    "\n",
    "    # Load image from S3 bucket\n",
    "    s3_connection = boto3.resource('s3')\n",
    "    s3_object = s3_connection.Object(bucket,photo)\n",
    "    s3_response = s3_object.get()\n",
    "\n",
    "    # Change image to a bytes stream\n",
    "    stream = io.BytesIO(s3_response['Body'].read())\n",
    "    image=Image.open(stream)\n",
    "    \n",
    "    #Call DetectText\n",
    "    response = json.dumps(client.detect_text(Image={'S3Object': {'Bucket': bucket, 'Name': photo}}))\n",
    "\n",
    "    # Get image size\n",
    "    imgWidth, imgHeight = image.size\n",
    "\n",
    "    # Read response into Json format\n",
    "    a = json.loads(response)\n",
    "    \n",
    "    # Calculate the bounding box of each word      \n",
    "    for entry in a['TextDetections']:\n",
    "        \n",
    "        # BoundingBox dimensions + padding variable\n",
    "        box = entry['Geometry']['BoundingBox']\n",
    "        left = imgWidth * box['Left'] +10\n",
    "        top = imgHeight * box['Top']+10\n",
    "        width = imgWidth* box['Width']+10\n",
    "        height = imgHeight * box['Height']+10\n",
    "        \n",
    "        # Crop Bounding Box image and send onto queue\n",
    "        \n",
    "        # Points to crop on\n",
    "        points = (\n",
    "            left,\n",
    "            top,\n",
    "            (left + width),\n",
    "            (top + height)\n",
    "        )\n",
    "        \n",
    "        # Crop image and add it to the queue\n",
    "        img1 = image.copy()\n",
    "        img1 = img1.crop(points)\n",
    "        img1.load()\n",
    "        q.put(img1)\n",
    "        \n",
    "    for elem in list(q.queue):\n",
    "        elem.show()\n",
    "        "
   ]
  },
  {
   "cell_type": "code",
   "execution_count": 5,
   "metadata": {},
   "outputs": [
    {
     "ename": "NameError",
     "evalue": "name 'Image' is not defined",
     "output_type": "error",
     "traceback": [
      "\u001b[0;31m---------------------------------------------------------------------------\u001b[0m",
      "\u001b[0;31mNameError\u001b[0m                                 Traceback (most recent call last)",
      "\u001b[0;32m<ipython-input-5-c690f4f7148d>\u001b[0m in \u001b[0;36m<module>\u001b[0;34m\u001b[0m\n\u001b[1;32m      1\u001b[0m \u001b[0;32mimport\u001b[0m \u001b[0mPIL\u001b[0m\u001b[0;34m.\u001b[0m\u001b[0mImage\u001b[0m\u001b[0;34m\u001b[0m\u001b[0m\n\u001b[0;32m----> 2\u001b[0;31m \u001b[0mImage\u001b[0m\u001b[0;34m\u001b[0m\u001b[0m\n\u001b[0m",
      "\u001b[0;31mNameError\u001b[0m: name 'Image' is not defined"
     ]
    }
   ],
   "source": []
  },
  {
   "cell_type": "code",
   "execution_count": null,
   "metadata": {},
   "outputs": [],
   "source": []
  }
 ],
 "metadata": {
  "kernelspec": {
   "display_name": "Python 3",
   "language": "python",
   "name": "python3"
  },
  "language_info": {
   "codemirror_mode": {
    "name": "ipython",
    "version": 3
   },
   "file_extension": ".py",
   "mimetype": "text/x-python",
   "name": "python",
   "nbconvert_exporter": "python",
   "pygments_lexer": "ipython3",
   "version": "3.6.6"
  }
 },
 "nbformat": 4,
 "nbformat_minor": 2
}
